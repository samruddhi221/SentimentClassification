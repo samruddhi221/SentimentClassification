{
  "nbformat": 4,
  "nbformat_minor": 0,
  "metadata": {
    "colab": {
      "name": "IMDB_classification.ipynb",
      "provenance": [],
      "collapsed_sections": []
    },
    "kernelspec": {
      "name": "python3",
      "display_name": "Python 3"
    },
    "accelerator": "GPU"
  },
  "cells": [
    {
      "cell_type": "code",
      "metadata": {
        "id": "wLCeZIkdtoLm",
        "colab_type": "code",
        "outputId": "e371c9ac-5cf6-476e-dce9-2e28f888c586",
        "colab": {
          "base_uri": "https://localhost:8080/",
          "height": 34
        }
      },
      "source": [
        "from google.colab import drive\n",
        "drive.mount('/content/drive')"
      ],
      "execution_count": 2,
      "outputs": [
        {
          "output_type": "stream",
          "text": [
            "Drive already mounted at /content/drive; to attempt to forcibly remount, call drive.mount(\"/content/drive\", force_remount=True).\n"
          ],
          "name": "stdout"
        }
      ]
    },
    {
      "cell_type": "code",
      "metadata": {
        "id": "Y_BRSCHq5e2H",
        "colab_type": "code",
        "colab": {}
      },
      "source": [
        "import torch.nn\n",
        "import torchtext\n",
        "from torchtext import data\n",
        "import torch.nn as nn\n",
        "from torch import optim\n",
        "import torch.nn.functional as F\n",
        "from torch.autograd import Variable\n",
        "import torch\n",
        "from torch.utils.data import TensorDataset, DataLoader\n",
        "\n",
        "import pandas as pd\n",
        "import numpy as np\n",
        "import timeit\n",
        "\n",
        "import spacy"
      ],
      "execution_count": 0,
      "outputs": []
    },
    {
      "cell_type": "code",
      "metadata": {
        "id": "se0-PrA06KnQ",
        "colab_type": "code",
        "colab": {}
      },
      "source": [
        "PATH = \"/content/drive/My Drive/Colab Notebooks/movieReccomendation/dataset/final_data/\""
      ],
      "execution_count": 0,
      "outputs": []
    },
    {
      "cell_type": "code",
      "metadata": {
        "id": "2G86fNh6eCFJ",
        "colab_type": "code",
        "outputId": "b2bf7eea-bb92-48e2-99db-4c4cc8afb37f",
        "colab": {
          "base_uri": "https://localhost:8080/",
          "height": 136
        }
      },
      "source": [
        "X = pd.read_csv(PATH+'train.csv')\n",
        "print(X.head())\n",
        "\n",
        "print(X.shape)"
      ],
      "execution_count": 5,
      "outputs": [
        {
          "output_type": "stream",
          "text": [
            "   sentiment                                       clean_review\n",
            "0          0  history year movie critic lead general public ...\n",
            "1          0  love movie admit well straight video movie see...\n",
            "2          1  think movie laugh anne ramsey play unforgettab...\n",
            "3          1  teen set camp oregon wilderness despite warn p...\n",
            "4          1  affable aspire cartoonist hoop mccann wonderfu...\n",
            "(40000, 2)\n"
          ],
          "name": "stdout"
        }
      ]
    },
    {
      "cell_type": "code",
      "metadata": {
        "id": "2geFq2sYL1vf",
        "colab_type": "code",
        "colab": {
          "base_uri": "https://localhost:8080/",
          "height": 54
        },
        "outputId": "0aaa4790-c464-4b95-e08a-fbfadb0ad133"
      },
      "source": [
        "X.clean_review[0]"
      ],
      "execution_count": 6,
      "outputs": [
        {
          "output_type": "execute_result",
          "data": {
            "text/plain": [
              "'history year movie critic lead general public astray send eye wide shut hype blair witch project magnolia far wrong movie year heck know self indulgence load bad act like stay watch credit thing movie theatre fast audience attend show feel pretty way date argue stranger ugly hateful film feel ugly hateful'"
            ]
          },
          "metadata": {
            "tags": []
          },
          "execution_count": 6
        }
      ]
    },
    {
      "cell_type": "code",
      "metadata": {
        "id": "y8yofGqH6zqr",
        "colab_type": "code",
        "outputId": "e53d3961-813f-4164-a5dd-89de6b79aa8f",
        "colab": {
          "base_uri": "https://localhost:8080/",
          "height": 68
        }
      },
      "source": [
        "def load_file(filepath, device):\n",
        "    tokenizer = lambda x: str(x).split()\n",
        "\n",
        "    TEXT = data.Field(include_lengths = True)\n",
        "    LABEL = data.Field(sequential=False, use_vocab=False, is_target=True)\n",
        "    tv_datafields = [('sentiment', LABEL), ('clean_review', TEXT)]\n",
        "    # Step two construction our dataset.\n",
        "    train, valid, test = data.TabularDataset.splits(path=filepath,\n",
        "                                                    train='train.csv', validation='val.csv',\n",
        "                                                    test='test.csv', format=\"csv\",\n",
        "                                                    skip_header=True, fields=tv_datafields)\n",
        "    print(train[1].__dict__.keys())\n",
        "    # Step three We should build_vocab for the field with use_vocab=True. \n",
        "    # If not we will get an error during the loop section.\n",
        "    TEXT.build_vocab(train, \n",
        "                     vectors = \"glove.6B.100d\", \n",
        "                     unk_init = torch.Tensor.normal_)\n",
        "    LABEL.build_vocab(train)\n",
        "    print(\"build vocab success...\")\n",
        "\n",
        "    # Step four construct our iterator to our dataset. \n",
        "    train_iter, valid_iter, test_iter = data.BucketIterator.splits( \n",
        "                                    (train, valid, test), batch_sizes=(64, 8, 8),\n",
        "                                    sort_key=lambda x: len(x.clean_review), device=device)\n",
        "    print(\"construct iterator success...\")\n",
        "\n",
        "    return TEXT, LABEL, train, valid, test, train_iter, valid_iter, test_iter\n",
        "\n",
        "device = torch.device(\"cuda\" if torch.cuda.is_available() else \"cpu\")\n",
        "TEXT, LABEL, train, valid, test, train_iter, valid_iter, test_iter = load_file(PATH, device)"
      ],
      "execution_count": 7,
      "outputs": [
        {
          "output_type": "stream",
          "text": [
            "dict_keys(['sentiment', 'clean_review'])\n",
            "build vocab success...\n",
            "construct iterator success...\n"
          ],
          "name": "stdout"
        }
      ]
    },
    {
      "cell_type": "code",
      "metadata": {
        "id": "H_XRNeY1P8Iy",
        "colab_type": "code",
        "colab": {
          "base_uri": "https://localhost:8080/",
          "height": 88
        },
        "outputId": "6464a188-b050-4f23-d5d9-1c3e793590c4"
      },
      "source": [
        "mydict = train[0].__dict__\n",
        "#lambda x: len(x.clean_review)\n",
        "print(mydict['clean_review'])\n",
        "print(dir(train))\n",
        "print(train[0])"
      ],
      "execution_count": 8,
      "outputs": [
        {
          "output_type": "stream",
          "text": [
            "['history', 'year', 'movie', 'critic', 'lead', 'general', 'public', 'astray', 'send', 'eye', 'wide', 'shut', 'hype', 'blair', 'witch', 'project', 'magnolia', 'far', 'wrong', 'movie', 'year', 'heck', 'know', 'self', 'indulgence', 'load', 'bad', 'act', 'like', 'stay', 'watch', 'credit', 'thing', 'movie', 'theatre', 'fast', 'audience', 'attend', 'show', 'feel', 'pretty', 'way', 'date', 'argue', 'stranger', 'ugly', 'hateful', 'film', 'feel', 'ugly', 'hateful']\n",
            "['__add__', '__class__', '__delattr__', '__dict__', '__dir__', '__doc__', '__eq__', '__format__', '__ge__', '__getattr__', '__getattribute__', '__getitem__', '__gt__', '__hash__', '__init__', '__init_subclass__', '__iter__', '__le__', '__len__', '__lt__', '__module__', '__ne__', '__new__', '__reduce__', '__reduce_ex__', '__repr__', '__setattr__', '__sizeof__', '__str__', '__subclasshook__', '__weakref__', 'download', 'examples', 'fields', 'filter_examples', 'sort_key', 'split', 'splits']\n",
            "<torchtext.data.example.Example object at 0x7f6c1d36f940>\n"
          ],
          "name": "stdout"
        }
      ]
    },
    {
      "cell_type": "code",
      "metadata": {
        "id": "zS7Tlb5ZbMbH",
        "colab_type": "code",
        "outputId": "2cc2c474-0e8c-4736-feb3-76aed104adfb",
        "colab": {
          "base_uri": "https://localhost:8080/",
          "height": 71
        }
      },
      "source": [
        "# most common words and their frequencies.\n",
        "print(TEXT.vocab.freqs.most_common(20))\n",
        "\n",
        "# top ten index to words transform.\n",
        "print(TEXT.vocab.itos[:10])"
      ],
      "execution_count": 9,
      "outputs": [
        {
          "output_type": "stream",
          "text": [
            "[('movie', 80774), ('film', 74742), ('like', 34849), ('time', 24701), ('good', 23395), ('character', 22260), ('watch', 21587), ('story', 19637), ('see', 19625), ('think', 19329), ('well', 19018), ('scene', 16640), ('great', 15855), ('look', 15711), ('know', 15233), ('end', 14575), ('bad', 14451), ('people', 14447), ('go', 14312), ('get', 13922)]\n",
            "['<unk>', '<pad>', 'movie', 'film', 'like', 'time', 'good', 'character', 'watch', 'story']\n"
          ],
          "name": "stdout"
        }
      ]
    },
    {
      "cell_type": "code",
      "metadata": {
        "id": "1q3PsVQ2lUZn",
        "colab_type": "code",
        "colab": {
          "base_uri": "https://localhost:8080/",
          "height": 408
        },
        "outputId": "5c07fdc7-9fa8-43b5-ea16-4543cc8e77b1"
      },
      "source": [
        "for i,batch in enumerate(valid_iter):\n",
        "    print(i)\n",
        "    if(i==0):\n",
        "        print('Batch:', batch)\n",
        "        print('batch.clean_review: \\n', batch.clean_review)\n",
        "        print('batch.sentiment : \\n', batch.sentiment)\n",
        "        print('batch.clean_review.size :', batch.clean_review[0].size())\n",
        "        print('batch.sentiment.size: ', batch.sentiment.size())\n",
        "        break"
      ],
      "execution_count": 10,
      "outputs": [
        {
          "output_type": "stream",
          "text": [
            "0\n",
            "Batch: \n",
            "[torchtext.data.batch.Batch of size 8]\n",
            "\t[.sentiment]:[torch.cuda.LongTensor of size 8 (GPU 0)]\n",
            "\t[.clean_review]:('[torch.cuda.LongTensor of size 12x8 (GPU 0)]', '[torch.cuda.LongTensor of size 8 (GPU 0)]')\n",
            "batch.clean_review: \n",
            " (tensor([[   21,  1643,    58,   360,  5921,     7,  5940,    12],\n",
            "        [   96,   583,   299,  1449,    10,  4472, 22950,   562],\n",
            "        [    2,   458,     3,  1829,     4,    90,   180,   612],\n",
            "        [  557,     2,   150,  2263,   329,   243,     3,  4705],\n",
            "        [  655,     8,     8,  2318,   815,   155,    30,     8],\n",
            "        [  647,   348,    14,  2632,     6,   354,   920,     1],\n",
            "        [   85,    62,    24, 32374,    32,  6234,    52,     1],\n",
            "        [  150,   486,    49,   151,   378, 14634,     1,     1],\n",
            "        [    8,   100,     6,    70,    24,     1,     1,     1],\n",
            "        [   11,    12,     3,     8, 48314,     1,     1,     1],\n",
            "        [ 6474,   322,   134,     1,     1,     1,     1,     1],\n",
            "        [    6,     1,     1,     1,     1,     1,     1,     1]],\n",
            "       device='cuda:0'), tensor([12, 11, 11, 10, 10,  8,  7,  5], device='cuda:0'))\n",
            "batch.sentiment : \n",
            " tensor([0, 1, 1, 1, 0, 0, 1, 0], device='cuda:0')\n",
            "batch.clean_review.size : torch.Size([12, 8])\n",
            "batch.sentiment.size:  torch.Size([8])\n"
          ],
          "name": "stdout"
        }
      ]
    },
    {
      "cell_type": "code",
      "metadata": {
        "id": "6wvWw8cjWZ4s",
        "colab_type": "code",
        "colab": {}
      },
      "source": [
        "class SentimentClassification(nn.Module):\n",
        "    def __init__(self, input_dim, embedding_dim, hidden_dim, output_dim, n_layers, pad_idx, dropout):\n",
        "        super(SentimentClassification, self).__init__()\n",
        "\n",
        "        self.output_dim = output_dim\n",
        "        self.hidden_dim = hidden_dim\n",
        "        self.n_layers = n_layers\n",
        "        self.embedding = nn.Embedding(input_dim, embedding_dim, padding_idx = pad_idx)\n",
        "        \n",
        "        self.lstm = nn.LSTM(embedding_dim, \n",
        "                           hidden_dim, \n",
        "                           num_layers=n_layers, \n",
        "                           bidirectional=True, \n",
        "                           dropout=dropout, batch_first=True)\n",
        "        \n",
        "        self.dropout = nn.Dropout(dropout)\n",
        "\n",
        "        self.fc = nn.Linear(hidden_dim * 2, output_dim)\n",
        "        \n",
        "        self.dropout = nn.Dropout(dropout)\n",
        "        self.sig = nn.Sigmoid()\n",
        "\n",
        "    def forward(self, text, text_lengths):\n",
        "        batch_size = text.size(1)       \n",
        "        #text_dim = (seq_len, batch_size)\n",
        "        \n",
        "        #embed_dim = (seq_len, batch_size, embed_dim)\n",
        "        embeds = self.embedding(text)\n",
        "        \n",
        "        packed_embedded = nn.utils.rnn.pack_padded_sequence(embeds, text_lengths, enforce_sorted=False)\n",
        "        packed_output, (hidden, cell) = self.lstm(packed_embedded)\n",
        "\n",
        "        #unpack sequence\n",
        "        output, output_lengths = nn.utils.rnn.pad_packed_sequence(packed_output)\n",
        "        #print('out dim ', output.size())\n",
        "        #output = [sent len, batch size, hid dim * num directions]\n",
        "        # stack up lstm outputs\n",
        "        \n",
        "        #hidden = [num layers * num directions, batch size, hid dim]\n",
        "        #cell = [num layers * num directions, batch size, hid dim] \n",
        "        \n",
        "        #concat the final forward (hidden[-2,:,:]) and backward (hidden[-1,:,:]) hidden layers\n",
        "        #and apply dropout\n",
        "        \n",
        "        hidden = self.dropout(torch.cat((hidden[-2,:,:], hidden[-1,:,:]), dim = 1))\n",
        "        out = self.fc(hidden)\n",
        "        #hidden = [batch size, hid dim * num directions] \n",
        "        return out\n",
        "\n",
        "    def init_hidden(self, batch_size):\n",
        "        ''' Initializes hidden state '''\n",
        "        # Create two new tensors with sizes n_layers x batch_size x hidden_dim,\n",
        "        # initialized to zero, for hidden state and cell state of LSTM\n",
        "        weight = next(self.parameters()).data\n",
        "        \n",
        "        if (torch.cuda.is_available()):\n",
        "            hidden = (weight.new(self.n_layers, batch_size, self.hidden_dim).zero_().cuda(),\n",
        "                  weight.new(self.n_layers, batch_size, self.hidden_dim).zero_().cuda())\n",
        "        else:\n",
        "            hidden = (weight.new(self.n_layers, batch_size, self.hidden_dim).zero_(),\n",
        "                      weight.new(self.n_layers, batch_size, self.hidden_dim).zero_())\n",
        "        \n",
        "        return hidden\n",
        "            "
      ],
      "execution_count": 0,
      "outputs": []
    },
    {
      "cell_type": "code",
      "metadata": {
        "id": "IMmgqA4mXTw7",
        "colab_type": "code",
        "outputId": "8984992b-22a2-421c-be82-559fd77f351a",
        "colab": {
          "base_uri": "https://localhost:8080/",
          "height": 153
        }
      },
      "source": [
        "INPUT_DIM = len(TEXT.vocab)\n",
        "print(INPUT_DIM)\n",
        "EMBEDDING_DIM = 100\n",
        "HIDDEN_DIM = 256\n",
        "OUTPUT_DIM = 1\n",
        "N_LAYERS = 2\n",
        "PAD_IDX = TEXT.vocab.stoi[TEXT.pad_token]\n",
        "DROPOUT = 0.3\n",
        "model = SentimentClassification(INPUT_DIM, EMBEDDING_DIM, HIDDEN_DIM, OUTPUT_DIM, N_LAYERS, PAD_IDX, DROPOUT)\n",
        "print(model)"
      ],
      "execution_count": 12,
      "outputs": [
        {
          "output_type": "stream",
          "text": [
            "141208\n",
            "SentimentClassification(\n",
            "  (embedding): Embedding(141208, 100, padding_idx=1)\n",
            "  (lstm): LSTM(100, 256, num_layers=2, batch_first=True, dropout=0.3, bidirectional=True)\n",
            "  (dropout): Dropout(p=0.3, inplace=False)\n",
            "  (fc): Linear(in_features=512, out_features=1, bias=True)\n",
            "  (sig): Sigmoid()\n",
            ")\n"
          ],
          "name": "stdout"
        }
      ]
    },
    {
      "cell_type": "code",
      "metadata": {
        "id": "qvHoR3wLXbPA",
        "colab_type": "code",
        "colab": {}
      },
      "source": [
        "optimizer = optim.Adam(model.parameters(), lr=1e-3)\n",
        "criterion = nn.BCEWithLogitsLoss()\n",
        "model = model.to(device)\n",
        "criterion = criterion.to(device)\n",
        "\n",
        "def calculateAccuracy(preds, y):\n",
        "    '''\n",
        "    Return accuracy per batch ..\n",
        "    '''\n",
        "    # round predictions to the closest integer\n",
        "    rounded_preds = torch.round(torch.sigmoid(preds))\n",
        "    correct = (rounded_preds == y).float()\n",
        "    acc = correct.sum() / len(correct)\n",
        "    \n",
        "    return acc"
      ],
      "execution_count": 0,
      "outputs": []
    },
    {
      "cell_type": "code",
      "metadata": {
        "id": "gwE4YfIQs6vM",
        "colab_type": "code",
        "colab": {
          "base_uri": "https://localhost:8080/",
          "height": 391
        },
        "outputId": "a0241042-d73f-4b45-c777-af3c7209c975"
      },
      "source": [
        "for i,batch in enumerate(train_iter):\n",
        "    if(i==0):\n",
        "        print('Batch:', batch)\n",
        "        print('batch.clean_review: \\n', batch.clean_review)\n",
        "        print('batch.sentiment : \\n', batch.sentiment)\n",
        "        print('batch.clean_review.size :', batch.clean_review[0].size())\n",
        "        print('batch.sentiment.size: ', batch.sentiment.size())\n",
        "        break"
      ],
      "execution_count": 14,
      "outputs": [
        {
          "output_type": "stream",
          "text": [
            "Batch: \n",
            "[torchtext.data.batch.Batch of size 64]\n",
            "\t[.sentiment]:[torch.cuda.LongTensor of size 64 (GPU 0)]\n",
            "\t[.clean_review]:('[torch.cuda.LongTensor of size 425x64 (GPU 0)]', '[torch.cuda.LongTensor of size 64 (GPU 0)]')\n",
            "batch.clean_review: \n",
            " (tensor([[ 252,  593,   25,  ...,   35,   34,  847],\n",
            "        [   3, 1987,  201,  ...,  260,  511,   12],\n",
            "        [  22,  342,   70,  ..., 1956, 1071,  493],\n",
            "        ...,\n",
            "        [   1,    1,    1,  ...,    1,    1,    1],\n",
            "        [   1,    1,    1,  ...,    1,    1,    1],\n",
            "        [   1,    1,    1,  ...,    1,    1,    1]], device='cuda:0'), tensor([ 66,  21, 171, 269,  67,  68,  99,  74,  79,  52, 120,  76,  41, 184,\n",
            "         84, 139,  72,  98, 425,  35,  61,  51,  55, 422,  52,  97,  96,  79,\n",
            "         52, 143, 218, 331,  44, 123,  66,  69, 110,  25,  94, 121, 104,  49,\n",
            "        110, 170,  50,  64,  91,  58,  63,  69, 207, 123,  92, 171, 210, 118,\n",
            "         34, 193,  52,  76,  19,  46, 199, 165], device='cuda:0'))\n",
            "batch.sentiment : \n",
            " tensor([1, 0, 0, 0, 1, 1, 1, 0, 1, 0, 1, 1, 0, 0, 1, 1, 0, 0, 0, 1, 0, 0, 0, 0,\n",
            "        0, 0, 1, 0, 1, 1, 1, 0, 0, 1, 1, 0, 0, 0, 0, 1, 1, 1, 1, 1, 1, 1, 0, 0,\n",
            "        0, 1, 0, 0, 0, 0, 0, 0, 1, 0, 1, 1, 1, 1, 1, 0], device='cuda:0')\n",
            "batch.clean_review.size : torch.Size([425, 64])\n",
            "batch.sentiment.size:  torch.Size([64])\n"
          ],
          "name": "stdout"
        }
      ]
    },
    {
      "cell_type": "code",
      "metadata": {
        "id": "fi2wc82jrwKQ",
        "colab_type": "code",
        "outputId": "ccc57220-ed64-4e16-c718-cdb08a0c47f0",
        "colab": {
          "base_uri": "https://localhost:8080/",
          "height": 88
        }
      },
      "source": [
        "MODEL_PATH = \"/content/drive/My Drive/Colab Notebooks/movieReccomendation/\"\n",
        "epochs = 1 # 3-4 is approx where I noticed the validation loss stop decreasing\n",
        "best_val_loss = float('inf')\n",
        "clip=5 # gradient clipping\n",
        "# move model to GPU, if available\n",
        "if(torch.cuda.is_available()):\n",
        "        model.cuda()\n",
        "# train for some number of epochs\n",
        "for e in range(epochs):\n",
        "    losses = []\n",
        "    train_acc = []\n",
        "    model.train()\n",
        "    # batch loop\n",
        "    for i, batch in enumerate(train_iter):\n",
        "        \n",
        "        # zero accumulated gradients\n",
        "        optimizer.zero_grad()\n",
        "        #print('text', batch.clean_review.size())\n",
        "        # get the output from the model\n",
        "        predictions = model(batch.clean_review[0], batch.clean_review[1]).squeeze(1)\n",
        "\n",
        "        # calculate the loss and perform backprop\n",
        "        loss = criterion(predictions, batch.sentiment.float())\n",
        "        loss.backward()\n",
        "        acc = calculateAccuracy(predictions, batch.sentiment)\n",
        "        losses.append(loss.item())\n",
        "        train_acc.append(acc.item())\n",
        "        # `clip_grad_norm` helps prevent the exploding gradient problem in RNNs / LSTMs.\n",
        "        nn.utils.clip_grad_norm_(model.parameters(), clip)\n",
        "        optimizer.step()\n",
        "        #print(loss.item())\n",
        "\n",
        "    val_losses = []\n",
        "    val_accs = []\n",
        "    model.eval()\n",
        "    for i_val, batch_val in enumerate(valid_iter):\n",
        "\n",
        "        val_pred = model(batch_val.clean_review[0], batch_val.clean_review[1]).squeeze(1)\n",
        "        val_loss = criterion(val_pred, batch_val.sentiment.float())\n",
        "        val_acc = calculateAccuracy(val_pred, batch_val.sentiment)\n",
        "        val_losses.append(val_loss.item())\n",
        "        val_accs.append(val_acc.item())\n",
        "\n",
        "\n",
        "    print(\"Epoch: {}/{}...\".format(e+1, epochs),\n",
        "          \"Loss: {:.3f}...\".format(np.mean(losses)),\n",
        "                  \"Val Loss: {:.3f}...\".format(np.mean(val_losses)),\n",
        "                  \"Accuracy: {:.3f}...\".format(np.mean(train_acc)),\n",
        "                  \"Val Accuracy: {:.3f}%\".format(np.mean(val_accs)*100))\n",
        "    if (np.mean(val_losses))<best_val_loss:\n",
        "        best_val_loss = np.mean(val_losses)\n",
        "        torch.save(model, MODEL_PATH+'SentimentClf_model.pt')"
      ],
      "execution_count": 17,
      "outputs": [
        {
          "output_type": "stream",
          "text": [
            "Epoch: 1/1... Loss: 0.324... Val Loss: 0.340... Accuracy: 0.865... Val Accuracy: 86.500%\n"
          ],
          "name": "stdout"
        },
        {
          "output_type": "stream",
          "text": [
            "/usr/local/lib/python3.6/dist-packages/torch/serialization.py:402: UserWarning: Couldn't retrieve source code for container of type SentimentClassification. It won't be checked for correctness upon loading.\n",
            "  \"type \" + obj.__name__ + \". It won't be checked \"\n"
          ],
          "name": "stderr"
        }
      ]
    },
    {
      "cell_type": "code",
      "metadata": {
        "id": "CkNO8TgSQwRc",
        "colab_type": "code",
        "colab": {}
      },
      "source": [
        "def test(model, test_iter, criterion):\n",
        "    test_losses = []\n",
        "    test_accs = []\n",
        "    model.eval()\n",
        "    for i_test, batch_test in enumerate(test_iter):\n",
        "\n",
        "        test_pred = model(batch_test.clean_review[0], batch_test.clean_review[1]).squeeze(1)\n",
        "        test_loss = criterion(test_pred, batch_test.sentiment.float())\n",
        "        test_acc = calculateAccuracy(test_pred, batch_test.sentiment)\n",
        "        test_losses.append(test_loss.item())\n",
        "        test_accs.append(test_acc.item())\n",
        "\n",
        "    return np.mean(test_losses), np.mean(test_accs)"
      ],
      "execution_count": 0,
      "outputs": []
    },
    {
      "cell_type": "code",
      "metadata": {
        "id": "Plnn8k2Ko4Fo",
        "colab_type": "code",
        "colab": {}
      },
      "source": [
        "model.load_state_dict(torch.load('Sentiment_model.pt'))\n",
        "\n",
        "test_loss, test_acc = test(model, test_iter, criterion)\n",
        "\n",
        "print(f'Test Loss: {test_loss:.3f} | Test Acc: {test_acc*100:.2f}%')"
      ],
      "execution_count": 0,
      "outputs": []
    },
    {
      "cell_type": "code",
      "metadata": {
        "id": "2mdpsMuiZkWb",
        "colab_type": "code",
        "colab": {
          "base_uri": "https://localhost:8080/",
          "height": 136
        },
        "outputId": "780b0198-2efb-4091-d3b3-866dff7d496c"
      },
      "source": [
        "import spacy\n",
        "nlp = spacy.load('en')\n",
        "model_ = torch.load(MODEL_PATH+'SentimentClf_model.pt')\n",
        "model_.eval()"
      ],
      "execution_count": 19,
      "outputs": [
        {
          "output_type": "execute_result",
          "data": {
            "text/plain": [
              "SentimentClassification(\n",
              "  (embedding): Embedding(141208, 100, padding_idx=1)\n",
              "  (lstm): LSTM(100, 256, num_layers=2, batch_first=True, dropout=0.3, bidirectional=True)\n",
              "  (dropout): Dropout(p=0.3, inplace=False)\n",
              "  (fc): Linear(in_features=512, out_features=1, bias=True)\n",
              "  (sig): Sigmoid()\n",
              ")"
            ]
          },
          "metadata": {
            "tags": []
          },
          "execution_count": 19
        }
      ]
    },
    {
      "cell_type": "code",
      "metadata": {
        "id": "Qc1Op3rPXRQ5",
        "colab_type": "code",
        "colab": {}
      },
      "source": [
        "def predict_sentiment(model_, sentence):\n",
        "    model_.eval()\n",
        "    tokenized = [tok.text for tok in nlp.tokenizer(sentence)]\n",
        "    indexed = [TEXT.vocab.stoi[t] for t in tokenized]\n",
        "    length = [len(indexed)]\n",
        "    tensor = torch.LongTensor(indexed).to(device)\n",
        "    tensor = tensor.unsqueeze(1)\n",
        "    length_tensor = torch.LongTensor(length)\n",
        "    prediction = torch.sigmoid(model(tensor, length_tensor))\n",
        "    return prediction.item()"
      ],
      "execution_count": 0,
      "outputs": []
    },
    {
      "cell_type": "code",
      "metadata": {
        "id": "IPOakM_7XiNz",
        "colab_type": "code",
        "colab": {
          "base_uri": "https://localhost:8080/",
          "height": 34
        },
        "outputId": "7b7b0e1f-3f0e-40e6-a56d-acedf3341b1e"
      },
      "source": [
        "predict_sentiment(model_, \"This film is terrible\")"
      ],
      "execution_count": 21,
      "outputs": [
        {
          "output_type": "execute_result",
          "data": {
            "text/plain": [
              "0.3924224078655243"
            ]
          },
          "metadata": {
            "tags": []
          },
          "execution_count": 21
        }
      ]
    },
    {
      "cell_type": "code",
      "metadata": {
        "id": "A8lcAImCXs5a",
        "colab_type": "code",
        "colab": {
          "base_uri": "https://localhost:8080/",
          "height": 34
        },
        "outputId": "0140a873-101b-4462-a4e4-d2c49c12adde"
      },
      "source": [
        "predict_sentiment(model, \"This film is awesome\")"
      ],
      "execution_count": 22,
      "outputs": [
        {
          "output_type": "execute_result",
          "data": {
            "text/plain": [
              "0.9593377709388733"
            ]
          },
          "metadata": {
            "tags": []
          },
          "execution_count": 22
        }
      ]
    }
  ]
}